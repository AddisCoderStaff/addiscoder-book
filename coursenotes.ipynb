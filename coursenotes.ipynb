{
 "cells": [
  {
   "cell_type": "markdown",
   "metadata": {},
   "source": [
    "# An Introduction to Programming in Python\n",
    "\n",
    "\n",
    "## 1. Introduction\n",
    "\n",
    "In AddisCoder, we are learning to write code. **Code** is instructions for the computer: you write code to tell the computer what to do. Just like people talk in many languages, there are many languages you can use to talk to the computer. The language we will learn here at AddisCoder is called \"Python\". **Python** is a popular **programming language** used around the world by many people. You can write Python code to create almost anything you want, including online shopping websites, video games, medical data analysis tools, and more!\n",
    "\n",
    "\n",
    "\n",
    "## 2. Jupyter Notebook \n",
    "\n",
    "We will be using **Jupyter Notebook** throughout this course. Jupyter Notebook is a computer program that lets you write some Python code (write some instructions for the computer), **run** it (order the computer to follow your instructions), and then see the **output** (the result of your instructions).\n",
    "\n",
    "Jupyter notebooks are organized into **cells**, which are boxes. Here is a cell with code that computes the amount in a bank account that has $4\\%$ interest compounded monthly, if you put in 10,000 birr and wait 5 years or 10 years (don't worry if the code makes no sense to you right now):"
   ]
  },
  {
   "cell_type": "code",
   "execution_count": 1,
   "metadata": {},
   "outputs": [
    {
     "name": "stdout",
     "output_type": "stream",
     "text": [
      "Amount in account after 5 years: 12209.965939421214\n",
      "Amount in account after 10 years: 14908.32682418262\n"
     ]
    }
   ],
   "source": [
    "def compound_interest(P, r, n, t):\n",
    "    return P * (1 + r/n) ** (n*t)\n",
    "\n",
    "principal = 10000  # birr\n",
    "print(\"Amount in account after 5 years:\",\n",
    "      compound_interest(principal, r=0.04, n=12, t=5))\n",
    "print(\"Amount in account after 10 years:\",\n",
    "      compound_interest(principal, r=0.04, n=12, t=10))"
   ]
  },
  {
   "cell_type": "markdown",
   "metadata": {},
   "source": [
    "The grey box is where you can write the code that you want the computer to execute. Then you can **run** the cell (by pressing `CTRL+ENTER` or `SHIFT+ENTER`) to order to computer to follow the instructions in your code. After the computer executes your code, it will show any outputs (anything you _print_ ) in the space under the cell."
   ]
  },
  {
   "cell_type": "markdown",
   "metadata": {},
   "source": [
    "## 3. Basic Math\n",
    "\n",
    "A computer is like a big and powerful calculator that can do many complicated calculations very fast. Let's learn how to tell the computer to do some math in Python!"
   ]
  },
  {
   "cell_type": "code",
   "execution_count": 2,
   "metadata": {},
   "outputs": [
    {
     "data": {
      "text/plain": [
       "6"
      ]
     },
     "execution_count": 2,
     "metadata": {},
     "output_type": "execute_result"
    }
   ],
   "source": [
    "2 + 4"
   ]
  },
  {
   "cell_type": "code",
   "execution_count": 3,
   "metadata": {},
   "outputs": [
    {
     "data": {
      "text/plain": [
       "8"
      ]
     },
     "execution_count": 3,
     "metadata": {},
     "output_type": "execute_result"
    }
   ],
   "source": [
    "9 - 1"
   ]
  },
  {
   "cell_type": "code",
   "execution_count": 4,
   "metadata": {},
   "outputs": [
    {
     "data": {
      "text/plain": [
       "-90"
      ]
     },
     "execution_count": 4,
     "metadata": {},
     "output_type": "execute_result"
    }
   ],
   "source": [
    "10 - 100"
   ]
  },
  {
   "cell_type": "markdown",
   "metadata": {},
   "source": [
    "Easy right? You can write simple math problems and tell the computer to solve them. When you run each cell, the computer will show the output right below it.\n",
    "\n",
    "Now let's try multiplication and division. But the keyboard doesn't have the muliplication ($\\times$) or division ($\\div$) symbols! We need to use `*` (called asterisk) for multiplication and `/` (called slash) for division instead:"
   ]
  },
  {
   "cell_type": "code",
   "execution_count": 5,
   "metadata": {},
   "outputs": [
    {
     "data": {
      "text/plain": [
       "35"
      ]
     },
     "execution_count": 5,
     "metadata": {},
     "output_type": "execute_result"
    }
   ],
   "source": [
    "5 * 7"
   ]
  },
  {
   "cell_type": "code",
   "execution_count": 6,
   "metadata": {},
   "outputs": [
    {
     "data": {
      "text/plain": [
       "9.0"
      ]
     },
     "execution_count": 6,
     "metadata": {},
     "output_type": "execute_result"
    }
   ],
   "source": [
    "81 / 9"
   ]
  },
  {
   "cell_type": "code",
   "execution_count": 7,
   "metadata": {},
   "outputs": [
    {
     "data": {
      "text/plain": [
       "2.5"
      ]
     },
     "execution_count": 7,
     "metadata": {},
     "output_type": "execute_result"
    }
   ],
   "source": [
    "5 / 2"
   ]
  },
  {
   "cell_type": "markdown",
   "metadata": {},
   "source": [
    "Sometimes it's also useful to compute a quotient without any decimal places. For example, what if we want to compute:\n",
    "\n",
    "$$56 \\div 9 = 6 \\text{ R } 2$$\n",
    "\n",
    "The quotient without any decimal places is $6$, and the remainder is $2$. We can do this in Python using `//` and `%`:"
   ]
  },
  {
   "cell_type": "code",
   "execution_count": 8,
   "metadata": {},
   "outputs": [
    {
     "data": {
      "text/plain": [
       "6"
      ]
     },
     "execution_count": 8,
     "metadata": {},
     "output_type": "execute_result"
    }
   ],
   "source": [
    "56 // 9"
   ]
  },
  {
   "cell_type": "code",
   "execution_count": 9,
   "metadata": {},
   "outputs": [
    {
     "data": {
      "text/plain": [
       "2"
      ]
     },
     "execution_count": 9,
     "metadata": {},
     "output_type": "execute_result"
    }
   ],
   "source": [
    "56 % 9"
   ]
  },
  {
   "cell_type": "markdown",
   "metadata": {},
   "source": [
    "The `//` operator is called the \"floor division\" operator, because we compute the quotient then compute its floor. (The floor of a number is the largest integer smaller than that number.)\n",
    "\n",
    "The `%` operator is called the \"modulo\" operator. It divides the first number by the second, and gives the remainder. As you will see in examples later on, this operator is especially useful for checking if one number if divisible by another.\n",
    "\n",
    "One more operator that might be useful is `**`, which is for exponentiation. For example, to compute\n",
    "\n",
    "$$ 5^3 $$\n",
    "\n",
    "we can write:"
   ]
  },
  {
   "cell_type": "code",
   "execution_count": 10,
   "metadata": {},
   "outputs": [
    {
     "data": {
      "text/plain": [
       "125"
      ]
     },
     "execution_count": 10,
     "metadata": {},
     "output_type": "execute_result"
    }
   ],
   "source": [
    "5 ** 3"
   ]
  },
  {
   "cell_type": "markdown",
   "metadata": {},
   "source": [
    "### 3.1 Order of operations\n",
    "\n",
    "You can also give Python some more complicated math problems. For example, let's say you put 3000 birr into a bank account account, which has an annual interest rate of $4\\%$. After 5 years, the bank account should have:\n",
    "\n",
    "$$ 3000 ( 1 + (0.04 \\times 5) ) = 3600 \\text{ birr} $$\n",
    "\n",
    "To tell the computer to compute it for you, you can write this code:"
   ]
  },
  {
   "cell_type": "code",
   "execution_count": 11,
   "metadata": {},
   "outputs": [
    {
     "data": {
      "text/plain": [
       "3600.0"
      ]
     },
     "execution_count": 11,
     "metadata": {},
     "output_type": "execute_result"
    }
   ],
   "source": [
    "3000 * (1 + 0.04 * 5)"
   ]
  },
  {
   "cell_type": "markdown",
   "metadata": {},
   "source": [
    "Notice that you can use **parentheses** `()` to tell the computer to calculate what's inside them first, just like in math. Python will also follow normal order of operations in math. For example, if we remove the parentheses in this code:"
   ]
  },
  {
   "cell_type": "code",
   "execution_count": 12,
   "metadata": {},
   "outputs": [
    {
     "data": {
      "text/plain": [
       "3000.2"
      ]
     },
     "execution_count": 12,
     "metadata": {},
     "output_type": "execute_result"
    }
   ],
   "source": [
    "3000 * 1 + 0.04 * 5"
   ]
  },
  {
   "cell_type": "markdown",
   "metadata": {},
   "source": [
    "The order of operations in Python is:\n",
    "\n",
    "1. Parentheses `()`\n",
    "2. Exponent `**`\n",
    "3. Multiplication `*` and Division `/` `//` `%`, left to right\n",
    "4. Addition `+` and Subtraction `-`, left to right\n",
    "\n",
    "Note that multiplication and division have _equal_ precedence. They are simply executed from left to right. For example, this code:"
   ]
  },
  {
   "cell_type": "code",
   "execution_count": 13,
   "metadata": {},
   "outputs": [
    {
     "data": {
      "text/plain": [
       "27.0"
      ]
     },
     "execution_count": 13,
     "metadata": {},
     "output_type": "execute_result"
    }
   ],
   "source": [
    "4 % 10 * 6 / 2 * 9 // 4"
   ]
  },
  {
   "cell_type": "markdown",
   "metadata": {},
   "source": [
    "has the same result as this code:"
   ]
  },
  {
   "cell_type": "code",
   "execution_count": 14,
   "metadata": {
    "scrolled": true
   },
   "outputs": [
    {
     "data": {
      "text/plain": [
       "27.0"
      ]
     },
     "execution_count": 14,
     "metadata": {},
     "output_type": "execute_result"
    }
   ],
   "source": [
    "(((((4 % 10) * 6) / 2) * 9) // 4)"
   ]
  },
  {
   "cell_type": "markdown",
   "metadata": {},
   "source": [
    "Addition and subtraction also have equal precedence."
   ]
  },
  {
   "cell_type": "markdown",
   "metadata": {},
   "source": [
    "## 4. Printing\n",
    "\n",
    "In the real world, a printer is a machine that can put words and pictures on paper. In computer programming, \"printing\" just means showing something on the screen. To print a number on the screen, we can write something like this:"
   ]
  },
  {
   "cell_type": "code",
   "execution_count": 15,
   "metadata": {},
   "outputs": [
    {
     "name": "stdout",
     "output_type": "stream",
     "text": [
      "13\n"
     ]
    }
   ],
   "source": [
    "print(13)"
   ]
  },
  {
   "cell_type": "markdown",
   "metadata": {},
   "source": [
    "You can see that we wrote the word `print`, and then wrote some **parentheses** (the round brackets around these words), and then put what we wanted to print _between_ the parentheses.\n",
    "\n",
    "### 4.1 A Note about Printing in Jupyter\n",
    "\n",
    "You might notice that sometimes you see a value displayed on the screen even though you didn't `print` it:"
   ]
  },
  {
   "cell_type": "code",
   "execution_count": 16,
   "metadata": {},
   "outputs": [
    {
     "data": {
      "text/plain": [
       "169"
      ]
     },
     "execution_count": 16,
     "metadata": {},
     "output_type": "execute_result"
    }
   ],
   "source": [
    "169"
   ]
  },
  {
   "cell_type": "markdown",
   "metadata": {},
   "source": [
    "This is because Jupyter Notebook automatically prints the value of the last line of the cell for you. If you have multiple lines of code in one cell, it will only print the value of the last one, unless you `print` it:"
   ]
  },
  {
   "cell_type": "code",
   "execution_count": 17,
   "metadata": {},
   "outputs": [
    {
     "data": {
      "text/plain": [
       "4"
      ]
     },
     "execution_count": 17,
     "metadata": {},
     "output_type": "execute_result"
    }
   ],
   "source": [
    "1\n",
    "2\n",
    "3\n",
    "4"
   ]
  },
  {
   "cell_type": "code",
   "execution_count": 18,
   "metadata": {},
   "outputs": [
    {
     "name": "stdout",
     "output_type": "stream",
     "text": [
      "1\n"
     ]
    },
    {
     "data": {
      "text/plain": [
       "4"
      ]
     },
     "execution_count": 18,
     "metadata": {},
     "output_type": "execute_result"
    }
   ],
   "source": [
    "print(1)\n",
    "2\n",
    "3\n",
    "4"
   ]
  },
  {
   "cell_type": "markdown",
   "metadata": {},
   "source": [
    "## 5. Variables"
   ]
  },
  {
   "cell_type": "markdown",
   "metadata": {},
   "source": [
    "To write more complicated programs, sometimes you need to tell the computer to remember some things. In programming, a **variable** is a container that can hold any value. Variables in Python are very similar to variables in math, but not exactly the same. For example, in math we can have:\n",
    "\n",
    "$$ x = 10 $$\n",
    "$$ y = 7 x + 4 $$\n",
    "\n",
    "What would $y$ be?\n",
    "\n",
    "$$ y = 7 (10) + 4 = 74 $$\n",
    "\n",
    "We can try the same thing in code:"
   ]
  },
  {
   "cell_type": "code",
   "execution_count": 19,
   "metadata": {},
   "outputs": [
    {
     "name": "stdout",
     "output_type": "stream",
     "text": [
      "74\n"
     ]
    }
   ],
   "source": [
    "x = 10\n",
    "y = 7 * x + 4\n",
    "print(y)"
   ]
  },
  {
   "cell_type": "markdown",
   "metadata": {},
   "source": [
    "It works perfectly. But how do you explain this code?"
   ]
  },
  {
   "cell_type": "code",
   "execution_count": 20,
   "metadata": {},
   "outputs": [
    {
     "name": "stdout",
     "output_type": "stream",
     "text": [
      "11\n"
     ]
    }
   ],
   "source": [
    "x = 10\n",
    "x = x + 1\n",
    "print(x)"
   ]
  },
  {
   "cell_type": "markdown",
   "metadata": {},
   "source": [
    "This makes no sense in mathematics! This equation \n",
    "\n",
    "$$ x = x + 1 $$\n",
    "\n",
    "is not valid -- it is be impossible to solve for $x$. But the code worked, because variables work differently in code than in math in a few major ways:\n",
    "\n",
    "1. **Variables in code can change value.** Variables in math cannot change value in the same set of equations.\n",
    "2. **The equals sign `=` in code does NOT mean equals.** It means \"**assign** the value on the right side to the variable on the left side\".\n",
    "3. **Code is excecuted one line at a time.** It matters which line is above another.\n",
    "\n",
    "For example, this code:\n",
    "\n",
    "```python\n",
    "x = 10\n",
    "x = x + 1\n",
    "```\n",
    "\n",
    "means \"put the value 10 inside the variable `x`, and then add `1` to the current value of `x` (which gives `11`), and put that new value inside the variable `x`.\" Notice that when you assign a new value to a variable, the old value is forgotten.\n",
    "\n",
    "Here are some more examples:"
   ]
  },
  {
   "cell_type": "code",
   "execution_count": 21,
   "metadata": {},
   "outputs": [
    {
     "name": "stdout",
     "output_type": "stream",
     "text": [
      "x at first contains the value:  5\n",
      "x now contains a new value:  10\n"
     ]
    }
   ],
   "source": [
    "x = 5\n",
    "print(\"x at first contains the value: \", x)\n",
    "x = 10\n",
    "print(\"x now contains a new value: \", x)"
   ]
  },
  {
   "cell_type": "markdown",
   "metadata": {},
   "source": [
    "Variables can change the values that they hold as shown above. Variables can also interact with other variables."
   ]
  },
  {
   "cell_type": "code",
   "execution_count": 22,
   "metadata": {},
   "outputs": [
    {
     "name": "stdout",
     "output_type": "stream",
     "text": [
      "y plus z is equal to:  35\n",
      "y times z is equal to:  300\n",
      "y divided by z is equal to:  0.75\n"
     ]
    }
   ],
   "source": [
    "y = 15\n",
    "z = 20\n",
    "print(\"y plus z is equal to: \", y + z)\n",
    "print(\"y times z is equal to: \", y * z)\n",
    "print(\"y divided by z is equal to: \", y/z)"
   ]
  },
  {
   "cell_type": "markdown",
   "metadata": {},
   "source": [
    "But notice that not all interactions are allowed in Python. In the code below, we try to add variables `a` and `b`, but we get an error. The error is due to a **type** mismatch in our addition: we try to add a container `a` holding an *integer* value with a container `b` holding a *string* (text) value. So it seems that variables that serve as containers for values must follow specific rules when interacting with other variables of different types."
   ]
  },
  {
   "cell_type": "code",
   "execution_count": 23,
   "metadata": {},
   "outputs": [
    {
     "ename": "TypeError",
     "evalue": "unsupported operand type(s) for +: 'int' and 'str'",
     "output_type": "error",
     "traceback": [
      "\u001b[0;31m---------------------------------------------------------------------------\u001b[0m",
      "\u001b[0;31mTypeError\u001b[0m                                 Traceback (most recent call last)",
      "\u001b[0;32m<ipython-input-23-271f7bccb61c>\u001b[0m in \u001b[0;36m<module>\u001b[0;34m\u001b[0m\n\u001b[1;32m      1\u001b[0m \u001b[0ma\u001b[0m \u001b[0;34m=\u001b[0m \u001b[0;36m15\u001b[0m\u001b[0;34m\u001b[0m\u001b[0;34m\u001b[0m\u001b[0m\n\u001b[1;32m      2\u001b[0m \u001b[0mb\u001b[0m \u001b[0;34m=\u001b[0m \u001b[0;34m\"16\"\u001b[0m\u001b[0;34m\u001b[0m\u001b[0;34m\u001b[0m\u001b[0m\n\u001b[0;32m----> 3\u001b[0;31m \u001b[0mprint\u001b[0m\u001b[0;34m(\u001b[0m\u001b[0ma\u001b[0m \u001b[0;34m+\u001b[0m \u001b[0mb\u001b[0m\u001b[0;34m)\u001b[0m\u001b[0;34m\u001b[0m\u001b[0;34m\u001b[0m\u001b[0m\n\u001b[0m",
      "\u001b[0;31mTypeError\u001b[0m: unsupported operand type(s) for +: 'int' and 'str'"
     ]
    }
   ],
   "source": [
    "a = 15\n",
    "b = \"16\"\n",
    "print(a + b)"
   ]
  },
  {
   "cell_type": "markdown",
   "metadata": {},
   "source": [
    "### 5.1 Variable names\n",
    "\n",
    "Variables can have almost any name, not just `x` or `y`. A variable name can be any combination of letters (`A-Z`, uppercase or lowercase), digits (`0-9`), or underscores (`_`), as long as the name does NOT start with a digit."
   ]
  },
  {
   "cell_type": "code",
   "execution_count": 24,
   "metadata": {},
   "outputs": [
    {
     "name": "stdout",
     "output_type": "stream",
     "text": [
      "12\n"
     ]
    }
   ],
   "source": [
    "very_long_variable_name_123 = 12\n",
    "print(very_long_variable_name_123)"
   ]
  },
  {
   "cell_type": "code",
   "execution_count": 25,
   "metadata": {},
   "outputs": [
    {
     "ename": "SyntaxError",
     "evalue": "invalid token (<ipython-input-25-607ca3d3a26c>, line 1)",
     "output_type": "error",
     "traceback": [
      "\u001b[0;36m  File \u001b[0;32m\"<ipython-input-25-607ca3d3a26c>\"\u001b[0;36m, line \u001b[0;32m1\u001b[0m\n\u001b[0;31m    007agent = \"james bond\"\u001b[0m\n\u001b[0m      ^\u001b[0m\n\u001b[0;31mSyntaxError\u001b[0m\u001b[0;31m:\u001b[0m invalid token\n"
     ]
    }
   ],
   "source": [
    "007agent = \"james bond\""
   ]
  },
  {
   "cell_type": "markdown",
   "metadata": {},
   "source": [
    "## 6. Comments\n",
    "\n",
    "Sometimes we want to include some notes in our code for ourselves, or for other people to read. We can writes notes by using the pound sign `#`:"
   ]
  },
  {
   "cell_type": "code",
   "execution_count": 26,
   "metadata": {},
   "outputs": [
    {
     "name": "stdout",
     "output_type": "stream",
     "text": [
      "Area is: 7.068507749999999\n",
      "Circumference is: 9.424676999999999\n"
     ]
    }
   ],
   "source": [
    "pi = 3.141559  # I don't know all the digits of pi :(\n",
    "# I have a circle that is 3 centimeters wide.\n",
    "diameter = 3\n",
    "# Compute the area and also the circumference.\n",
    "r = diameter / 2  # radius\n",
    "area = pi * r * r\n",
    "circumference = pi * diameter \n",
    "# Display the results on the screen.\n",
    "print(\"Area is:\", area)\n",
    "print(\"Circumference is:\", circumference)"
   ]
  },
  {
   "cell_type": "markdown",
   "metadata": {},
   "source": [
    "Everything one the line that is on the _right_ of the pound sign `#` is _ignored_ by the computer. These notes are called **comments**. Comments are just for other humans to read, and are usually written to help explain what the code is doing, and why you wrote the code that way."
   ]
  },
  {
   "cell_type": "markdown",
   "metadata": {},
   "source": [
    "## 7. Strings\n",
    "\n",
    "In Python, we can work with more than just numbers. We can also write code that manipulates text. To create a text value, we use quotation marks `\"`. For example, we can print `Selam!` by writing this:"
   ]
  },
  {
   "cell_type": "code",
   "execution_count": 27,
   "metadata": {},
   "outputs": [
    {
     "name": "stdout",
     "output_type": "stream",
     "text": [
      "Selam!\n"
     ]
    }
   ],
   "source": [
    "print(\"Selam!\")"
   ]
  },
  {
   "cell_type": "markdown",
   "metadata": {},
   "source": [
    "We can also use single quotation marks `'`:"
   ]
  },
  {
   "cell_type": "code",
   "execution_count": 28,
   "metadata": {},
   "outputs": [
    {
     "name": "stdout",
     "output_type": "stream",
     "text": [
      "Selam!\n"
     ]
    }
   ],
   "source": [
    "print('Selam!')"
   ]
  },
  {
   "cell_type": "markdown",
   "metadata": {},
   "source": [
    "Both ways of writing strings are exactly the same -- you should just pick the way you like the most.\n",
    "\n",
    "What would happen if we don't use quotation marks?"
   ]
  },
  {
   "cell_type": "code",
   "execution_count": 29,
   "metadata": {},
   "outputs": [
    {
     "ename": "NameError",
     "evalue": "name 'Selam' is not defined",
     "output_type": "error",
     "traceback": [
      "\u001b[0;31m---------------------------------------------------------------------------\u001b[0m",
      "\u001b[0;31mNameError\u001b[0m                                 Traceback (most recent call last)",
      "\u001b[0;32m<ipython-input-29-d67c9beb7980>\u001b[0m in \u001b[0;36m<module>\u001b[0;34m\u001b[0m\n\u001b[0;32m----> 1\u001b[0;31m \u001b[0mprint\u001b[0m\u001b[0;34m(\u001b[0m\u001b[0mSelam\u001b[0m\u001b[0;34m)\u001b[0m\u001b[0;34m\u001b[0m\u001b[0;34m\u001b[0m\u001b[0m\n\u001b[0m",
      "\u001b[0;31mNameError\u001b[0m: name 'Selam' is not defined"
     ]
    }
   ],
   "source": [
    "print(Selam)"
   ]
  },
  {
   "cell_type": "markdown",
   "metadata": {},
   "source": [
    "When we don't use quotation marks here, the computer tries to look for a _variable_ named `Selam`. But since we didn't create such a variable, the code fails and gives us an error message.\n",
    "\n",
    "Sometimes it is useful to print multiple values on the same line. You can do that by separating the different values with commas."
   ]
  },
  {
   "cell_type": "code",
   "execution_count": 30,
   "metadata": {},
   "outputs": [
    {
     "name": "stdout",
     "output_type": "stream",
     "text": [
      "Hello, I am 25 years old.\n"
     ]
    }
   ],
   "source": [
    "age = 25\n",
    "print('Hello, I am', age, 'years old.')"
   ]
  },
  {
   "cell_type": "markdown",
   "metadata": {},
   "source": [
    "If you just use `print` multiple times, each value will be on its own line instead:"
   ]
  },
  {
   "cell_type": "code",
   "execution_count": 31,
   "metadata": {
    "scrolled": true
   },
   "outputs": [
    {
     "name": "stdout",
     "output_type": "stream",
     "text": [
      "Hello, I am\n",
      "25\n",
      "years old.\n"
     ]
    }
   ],
   "source": [
    "age = 25\n",
    "print('Hello, I am')\n",
    "print(age)\n",
    "print('years old.')"
   ]
  },
  {
   "cell_type": "markdown",
   "metadata": {},
   "source": [
    "## 8. Types"
   ]
  },
  {
   "cell_type": "markdown",
   "metadata": {},
   "source": [
    "So far, we have learned that as programmers, we write code, and each line of code we write corresponds to a an instruction for the computer. Instructions to the computer must be specific and must follow the rules of our language (which is Python in our case). **Types** are the different categories of values that the computer understands. Each **type** has its own characteristics and interacts with other **types** according to specific rules. For example, we saw earlier that we could not add an integer variable with a string variable.\n",
    "\n",
    "Here are the basic types in Python that you should know about:\n",
    "\n",
    "- **int**: an integer.\n",
    "- **float**: a decimal number.\n",
    "- **string**: a sequence of text characters, including letters, numbers, spaces, and more.\n",
    "- **list**: a sequence of items, which can be any value (we will learn more about these later)\n",
    "- **boolean**: either `True` or `False`\n",
    "- **dict**: a mapping from keys to values (we will learn more about these later)\n",
    "  \n",
    "Variables contain a value, so imagine a variable as a cup that contains something. However, we use different types of cups for different beverages; coffee cups are different from water cups, which are different from tea cups. Imagine types as giving a cup, or a variable, the unique type. By assigning an integer value to a variable, we give our cup a more specific purpose.\n",
    "  \n",
    "Let's look at examples of how different types interact with each other in Python."
   ]
  },
  {
   "cell_type": "code",
   "execution_count": 32,
   "metadata": {},
   "outputs": [
    {
     "name": "stdout",
     "output_type": "stream",
     "text": [
      "<class 'int'>\n"
     ]
    }
   ],
   "source": [
    "print(type(15))"
   ]
  },
  {
   "cell_type": "code",
   "execution_count": 33,
   "metadata": {},
   "outputs": [
    {
     "name": "stdout",
     "output_type": "stream",
     "text": [
      "<class 'float'>\n"
     ]
    }
   ],
   "source": [
    "print(type(15.5))"
   ]
  },
  {
   "cell_type": "code",
   "execution_count": 34,
   "metadata": {},
   "outputs": [
    {
     "name": "stdout",
     "output_type": "stream",
     "text": [
      "<class 'bool'>\n"
     ]
    }
   ],
   "source": [
    "print(type(True))"
   ]
  },
  {
   "cell_type": "code",
   "execution_count": 35,
   "metadata": {},
   "outputs": [
    {
     "name": "stdout",
     "output_type": "stream",
     "text": [
      "<class 'str'>\n"
     ]
    }
   ],
   "source": [
    "print(type(\"fifteen\"))"
   ]
  },
  {
   "cell_type": "code",
   "execution_count": 36,
   "metadata": {},
   "outputs": [
    {
     "name": "stdout",
     "output_type": "stream",
     "text": [
      "<class 'NoneType'>\n"
     ]
    }
   ],
   "source": [
    "print(type(None))"
   ]
  },
  {
   "cell_type": "code",
   "execution_count": 37,
   "metadata": {},
   "outputs": [
    {
     "name": "stdout",
     "output_type": "stream",
     "text": [
      "<class 'list'>\n"
     ]
    }
   ],
   "source": [
    "print(type([15, 15.5, True, \"fifteen\", None]))"
   ]
  },
  {
   "cell_type": "code",
   "execution_count": 38,
   "metadata": {},
   "outputs": [
    {
     "name": "stdout",
     "output_type": "stream",
     "text": [
      "<class 'dict'>\n"
     ]
    }
   ],
   "source": [
    "print(type({\"egg\": 15, \"onion\": 15.5, \"chicken\": \"fifteen\", \"water\": True}))"
   ]
  },
  {
   "cell_type": "code",
   "execution_count": 39,
   "metadata": {},
   "outputs": [
    {
     "name": "stdout",
     "output_type": "stream",
     "text": [
      "30.5\n"
     ]
    }
   ],
   "source": [
    "print(15 + 15.5)"
   ]
  },
  {
   "cell_type": "code",
   "execution_count": 40,
   "metadata": {},
   "outputs": [
    {
     "ename": "TypeError",
     "evalue": "unsupported operand type(s) for +: 'int' and 'str'",
     "output_type": "error",
     "traceback": [
      "\u001b[0;31m---------------------------------------------------------------------------\u001b[0m",
      "\u001b[0;31mTypeError\u001b[0m                                 Traceback (most recent call last)",
      "\u001b[0;32m<ipython-input-40-91416a7dc568>\u001b[0m in \u001b[0;36m<module>\u001b[0;34m\u001b[0m\n\u001b[0;32m----> 1\u001b[0;31m \u001b[0mprint\u001b[0m\u001b[0;34m(\u001b[0m\u001b[0;36m15\u001b[0m \u001b[0;34m+\u001b[0m \u001b[0;34m\"15\"\u001b[0m\u001b[0;34m)\u001b[0m\u001b[0;34m\u001b[0m\u001b[0;34m\u001b[0m\u001b[0m\n\u001b[0m",
      "\u001b[0;31mTypeError\u001b[0m: unsupported operand type(s) for +: 'int' and 'str'"
     ]
    }
   ],
   "source": [
    "print(15 + \"15\")"
   ]
  },
  {
   "cell_type": "markdown",
   "metadata": {},
   "source": [
    "### 8.1 Casting between types\n",
    "\n",
    "If you write parentheses after the name of a type, you can sometimes ask the computer to convert one type into another."
   ]
  },
  {
   "cell_type": "code",
   "execution_count": 41,
   "metadata": {},
   "outputs": [
    {
     "name": "stdout",
     "output_type": "stream",
     "text": [
      "30\n"
     ]
    }
   ],
   "source": [
    "print(15 + int(\"15\"))"
   ]
  },
  {
   "cell_type": "code",
   "execution_count": 42,
   "metadata": {},
   "outputs": [
    {
     "name": "stdout",
     "output_type": "stream",
     "text": [
      "15fifteen\n"
     ]
    }
   ],
   "source": [
    "print(str(15) + \"fifteen\")"
   ]
  },
  {
   "cell_type": "markdown",
   "metadata": {},
   "source": [
    "## 9 Lists and Indexing"
   ]
  },
  {
   "cell_type": "markdown",
   "metadata": {},
   "source": [
    "A **list** in Python is just a list of values. You can create a list by using square brackets `[]` and separating the values with commas `,`:"
   ]
  },
  {
   "cell_type": "code",
   "execution_count": 43,
   "metadata": {},
   "outputs": [],
   "source": [
    "my_list = [1,3,5,7,9]"
   ]
  },
  {
   "cell_type": "markdown",
   "metadata": {},
   "source": [
    "You can print a whole list, or you can get a single value out of a list by using the square brackets again `[]`, and placing the position of the value that you want to get between brackets:"
   ]
  },
  {
   "cell_type": "code",
   "execution_count": 44,
   "metadata": {},
   "outputs": [
    {
     "name": "stdout",
     "output_type": "stream",
     "text": [
      "[1, 3, 5, 7, 9]\n",
      "5\n"
     ]
    }
   ],
   "source": [
    "print(my_list)\n",
    "print(my_list[2])"
   ]
  },
  {
   "cell_type": "markdown",
   "metadata": {},
   "source": [
    "Wait, but we asked for the value at position `2`, why did it print `5`? Clearly, `5` is in the third position.\n",
    "\n",
    "This is because the position numbers, which we call **indexes** or **indices**, for items in lists start with `0`, instead of `1`. So to print all of the items in `my_list` one by one, we have to write:"
   ]
  },
  {
   "cell_type": "code",
   "execution_count": 45,
   "metadata": {},
   "outputs": [
    {
     "name": "stdout",
     "output_type": "stream",
     "text": [
      "1\n",
      "3\n",
      "5\n",
      "7\n",
      "9\n"
     ]
    }
   ],
   "source": [
    "my_list = [1,3,5,7,9]\n",
    "print(my_list[0])\n",
    "print(my_list[1])\n",
    "print(my_list[2])\n",
    "print(my_list[3])\n",
    "print(my_list[4])"
   ]
  },
  {
   "cell_type": "markdown",
   "metadata": {},
   "source": [
    "Also notice that if we try to get an element with an index that is out of the range of possible indices for a list, we get an error."
   ]
  },
  {
   "cell_type": "code",
   "execution_count": 46,
   "metadata": {},
   "outputs": [
    {
     "ename": "IndexError",
     "evalue": "list index out of range",
     "output_type": "error",
     "traceback": [
      "\u001b[0;31m---------------------------------------------------------------------------\u001b[0m",
      "\u001b[0;31mIndexError\u001b[0m                                Traceback (most recent call last)",
      "\u001b[0;32m<ipython-input-46-69c26f2a765d>\u001b[0m in \u001b[0;36m<module>\u001b[0;34m\u001b[0m\n\u001b[0;32m----> 1\u001b[0;31m \u001b[0mprint\u001b[0m\u001b[0;34m(\u001b[0m\u001b[0mmy_list\u001b[0m\u001b[0;34m[\u001b[0m\u001b[0;36m5\u001b[0m\u001b[0;34m]\u001b[0m\u001b[0;34m)\u001b[0m\u001b[0;34m\u001b[0m\u001b[0;34m\u001b[0m\u001b[0m\n\u001b[0m",
      "\u001b[0;31mIndexError\u001b[0m: list index out of range"
     ]
    }
   ],
   "source": [
    "print(my_list[5])"
   ]
  },
  {
   "cell_type": "markdown",
   "metadata": {},
   "source": [
    "Python also allows us to use negative indices, which count from the back of the list."
   ]
  },
  {
   "cell_type": "code",
   "execution_count": 47,
   "metadata": {
    "scrolled": true
   },
   "outputs": [
    {
     "name": "stdout",
     "output_type": "stream",
     "text": [
      "9\n",
      "7\n",
      "5\n",
      "3\n",
      "1\n"
     ]
    }
   ],
   "source": [
    "print(my_list[-1])\n",
    "print(my_list[-2])\n",
    "print(my_list[-3])\n",
    "print(my_list[-4])\n",
    "print(my_list[-5])"
   ]
  },
  {
   "cell_type": "markdown",
   "metadata": {},
   "source": [
    "It is worth noting that lists can contain values of _any_ type, even within one list:"
   ]
  },
  {
   "cell_type": "code",
   "execution_count": 48,
   "metadata": {},
   "outputs": [
    {
     "name": "stdout",
     "output_type": "stream",
     "text": [
      "[15, 15.5, True, 'fifteen', None]\n"
     ]
    }
   ],
   "source": [
    "print([15, 15.5, True, \"fifteen\", None])"
   ]
  },
  {
   "cell_type": "markdown",
   "metadata": {},
   "source": [
    "### 9.1 String indexing\n",
    "\n",
    "All the rules above apply to strings as well. Strings are just like lists, but each item is a letter or character."
   ]
  },
  {
   "cell_type": "code",
   "execution_count": 49,
   "metadata": {},
   "outputs": [],
   "source": [
    "my_string = \"hello\""
   ]
  },
  {
   "cell_type": "code",
   "execution_count": 50,
   "metadata": {},
   "outputs": [
    {
     "name": "stdout",
     "output_type": "stream",
     "text": [
      "h\n",
      "e\n",
      "l\n",
      "l\n",
      "o\n"
     ]
    }
   ],
   "source": [
    "print(my_string[0])\n",
    "print(my_string[1])\n",
    "print(my_string[2])\n",
    "print(my_string[3])\n",
    "print(my_string[4])"
   ]
  },
  {
   "cell_type": "code",
   "execution_count": 51,
   "metadata": {},
   "outputs": [
    {
     "name": "stdout",
     "output_type": "stream",
     "text": [
      "o\n",
      "l\n",
      "l\n",
      "e\n",
      "h\n"
     ]
    }
   ],
   "source": [
    "print(my_string[-1])\n",
    "print(my_string[-2])\n",
    "print(my_string[-3])\n",
    "print(my_string[-4])\n",
    "print(my_string[-5])"
   ]
  },
  {
   "cell_type": "markdown",
   "metadata": {},
   "source": [
    "### 9.2 Slicing\n",
    "\n",
    "We can also access more than one elements of a list or a string using Python's **slicing** rules.\n",
    "```\n",
    "var[start:stop:step] # start through not past stop, by step\n",
    "```"
   ]
  },
  {
   "cell_type": "markdown",
   "metadata": {},
   "source": [
    "Remeber the three \"s\" when using slicing.  \n",
    "  \n",
    "`start`: the index at which you want to start accessing, includes the item at start index  \n",
    "  \n",
    "`stop`: the index at which you want to stop accessing, does NOT include the item at stop index  \n",
    "  \n",
    "`step`: the steps to take for each element in the range defined by start and stop  \n",
    "  \n",
    "If one does not specify start, then Python will by default start accessing from the beginning of the list or the string. Similarly, if one does not specify stop, then Python wil by default stop accesing before the end of the list or the string.  "
   ]
  },
  {
   "cell_type": "code",
   "execution_count": 52,
   "metadata": {
    "scrolled": true
   },
   "outputs": [
    {
     "name": "stdout",
     "output_type": "stream",
     "text": [
      "hello\n",
      "ello\n",
      "hel\n",
      "el\n"
     ]
    }
   ],
   "source": [
    "print(my_string[:])\n",
    "print(my_string[1:])\n",
    "print(my_string[:-2])\n",
    "print(my_string[1:-1:2])"
   ]
  },
  {
   "cell_type": "markdown",
   "metadata": {},
   "source": [
    "## 10. Booleans\n",
    "\n",
    "A **boolean** value represents whether something is true or not. There are only two possible boolean values in Python: `True` or `False`. **Notice that both `True` and `False` are capitalized!** The computer will not understand if you just write `true` or `false`.\n",
    "\n",
    "The type of a boolean value is called `bool`."
   ]
  },
  {
   "cell_type": "code",
   "execution_count": 53,
   "metadata": {},
   "outputs": [
    {
     "data": {
      "text/plain": [
       "bool"
      ]
     },
     "execution_count": 53,
     "metadata": {},
     "output_type": "execute_result"
    }
   ],
   "source": [
    "type(True)"
   ]
  },
  {
   "cell_type": "code",
   "execution_count": 54,
   "metadata": {},
   "outputs": [
    {
     "data": {
      "text/plain": [
       "bool"
      ]
     },
     "execution_count": 54,
     "metadata": {},
     "output_type": "execute_result"
    }
   ],
   "source": [
    "type(False)"
   ]
  },
  {
   "cell_type": "markdown",
   "metadata": {},
   "source": [
    "### 10.1 Boolean expressions\n",
    "\n",
    "A boolean expression is a snippet of code that evaluates to either `True` or `False`.\n",
    "For example, the operator `==` tests if two values are equal. It results in a boolean value:"
   ]
  },
  {
   "cell_type": "code",
   "execution_count": 55,
   "metadata": {},
   "outputs": [
    {
     "data": {
      "text/plain": [
       "True"
      ]
     },
     "execution_count": 55,
     "metadata": {},
     "output_type": "execute_result"
    }
   ],
   "source": [
    "10 == 10"
   ]
  },
  {
   "cell_type": "code",
   "execution_count": 56,
   "metadata": {},
   "outputs": [
    {
     "data": {
      "text/plain": [
       "False"
      ]
     },
     "execution_count": 56,
     "metadata": {},
     "output_type": "execute_result"
    }
   ],
   "source": [
    "a = [1, 3]\n",
    "a == [3]"
   ]
  },
  {
   "cell_type": "markdown",
   "metadata": {},
   "source": [
    "Here are some more boolean operators you can use:\n",
    "\n",
    " - `<` \"less than\"\n",
    " - `>` \"greater than\"\n",
    " - `<=` \"less than or equal to\"\n",
    " - `>=` \"greater than or equal to\"\n",
    " - `!=` \"not equals\"\n",
    " - `==` \"equals\""
   ]
  },
  {
   "cell_type": "code",
   "execution_count": 57,
   "metadata": {},
   "outputs": [
    {
     "name": "stdout",
     "output_type": "stream",
     "text": [
      "False\n",
      "True\n",
      "True\n",
      "True\n",
      "True\n",
      "False\n"
     ]
    }
   ],
   "source": [
    "x = 2\n",
    "y = 4\n",
    "z = 4\n",
    "print(x > y)\n",
    "print(x < y)\n",
    "print(y == z)\n",
    "print(y >= z)\n",
    "print(y <= z)\n",
    "print(y != z)"
   ]
  },
  {
   "cell_type": "markdown",
   "metadata": {},
   "source": [
    "There are three **logical operators**, `and`, `or` and `not` which help us build more complex boolean expression. \n",
    "For example, `x > 0 and x < 10` produces `True` only when x is greater than 0 and x is less than 10."
   ]
  },
  {
   "cell_type": "code",
   "execution_count": 58,
   "metadata": {},
   "outputs": [
    {
     "data": {
      "text/plain": [
       "True"
      ]
     },
     "execution_count": 58,
     "metadata": {},
     "output_type": "execute_result"
    }
   ],
   "source": [
    "10 > 5 and 5 < 9"
   ]
  },
  {
   "cell_type": "code",
   "execution_count": 59,
   "metadata": {},
   "outputs": [
    {
     "data": {
      "text/plain": [
       "False"
      ]
     },
     "execution_count": 59,
     "metadata": {},
     "output_type": "execute_result"
    }
   ],
   "source": [
    "10 < 4 or 10 < 5"
   ]
  },
  {
   "cell_type": "code",
   "execution_count": 60,
   "metadata": {},
   "outputs": [
    {
     "data": {
      "text/plain": [
       "False"
      ]
     },
     "execution_count": 60,
     "metadata": {},
     "output_type": "execute_result"
    }
   ],
   "source": [
    "not True"
   ]
  },
  {
   "cell_type": "code",
   "execution_count": 61,
   "metadata": {},
   "outputs": [
    {
     "data": {
      "text/plain": [
       "True"
      ]
     },
     "execution_count": 61,
     "metadata": {},
     "output_type": "execute_result"
    }
   ],
   "source": [
    "not 10 < 4"
   ]
  },
  {
   "cell_type": "markdown",
   "metadata": {},
   "source": [
    "## 11. Dictionaries\n",
    "\n",
    "A dictionary or `dict` in Python is an object that can store a mapping from \"keys\" to \"values\".\n",
    "\n",
    "We can define a dictionary like this:\n"
   ]
  },
  {
   "cell_type": "code",
   "execution_count": 62,
   "metadata": {},
   "outputs": [],
   "source": [
    "countryCapitals = {\n",
    "    'Ethiopia': 'Addis Abada',\n",
    "    'Canada': 'Ottawa',\n",
    "    'Iran': 'Teheran',\n",
    "    'Turkey': 'Ankara'\n",
    "}"
   ]
  },
  {
   "cell_type": "markdown",
   "metadata": {},
   "source": [
    "This dictionary maps the names of each country (the key) to the name of its capital (the value). Once the dictionary is defined, we can get a value corresponding to a given key using square bracket notation:"
   ]
  },
  {
   "cell_type": "code",
   "execution_count": 63,
   "metadata": {},
   "outputs": [
    {
     "data": {
      "text/plain": [
       "'Addis Abada'"
      ]
     },
     "execution_count": 63,
     "metadata": {},
     "output_type": "execute_result"
    }
   ],
   "source": [
    "countryCapitals['Ethiopia']"
   ]
  },
  {
   "cell_type": "markdown",
   "metadata": {},
   "source": [
    "We can also replace entries or add new ones:"
   ]
  },
  {
   "cell_type": "code",
   "execution_count": 64,
   "metadata": {},
   "outputs": [
    {
     "data": {
      "text/plain": [
       "'Addis Ababa'"
      ]
     },
     "execution_count": 64,
     "metadata": {},
     "output_type": "execute_result"
    }
   ],
   "source": [
    "countryCapitals['Ethiopia'] = 'Addis Ababa'\n",
    "countryCapitals['Ethiopia']"
   ]
  },
  {
   "cell_type": "code",
   "execution_count": 65,
   "metadata": {},
   "outputs": [
    {
     "data": {
      "text/plain": [
       "'Taipei'"
      ]
     },
     "execution_count": 65,
     "metadata": {},
     "output_type": "execute_result"
    }
   ],
   "source": [
    "countryCapitals['Taiwan'] = 'Taipei'\n",
    "countryCapitals['Taiwan']"
   ]
  },
  {
   "cell_type": "markdown",
   "metadata": {},
   "source": [
    "There are also a few useful methods (functions defined on objects) that give you the full list of keys, or the full list of values, or the number of entries."
   ]
  },
  {
   "cell_type": "code",
   "execution_count": 66,
   "metadata": {},
   "outputs": [
    {
     "data": {
      "text/plain": [
       "dict_keys(['Ethiopia', 'Canada', 'Iran', 'Turkey', 'Taiwan'])"
      ]
     },
     "execution_count": 66,
     "metadata": {},
     "output_type": "execute_result"
    }
   ],
   "source": [
    "countryCapitals.keys()"
   ]
  },
  {
   "cell_type": "code",
   "execution_count": 67,
   "metadata": {},
   "outputs": [
    {
     "data": {
      "text/plain": [
       "dict_values(['Addis Ababa', 'Ottawa', 'Teheran', 'Ankara', 'Taipei'])"
      ]
     },
     "execution_count": 67,
     "metadata": {},
     "output_type": "execute_result"
    }
   ],
   "source": [
    "countryCapitals.values()"
   ]
  },
  {
   "cell_type": "code",
   "execution_count": 68,
   "metadata": {},
   "outputs": [
    {
     "data": {
      "text/plain": [
       "5"
      ]
     },
     "execution_count": 68,
     "metadata": {},
     "output_type": "execute_result"
    }
   ],
   "source": [
    "len(countryCapitals)"
   ]
  },
  {
   "cell_type": "markdown",
   "metadata": {},
   "source": [
    "You can also check if a key exists in the dictionary using the `in` operator."
   ]
  },
  {
   "cell_type": "code",
   "execution_count": 69,
   "metadata": {},
   "outputs": [
    {
     "data": {
      "text/plain": [
       "True"
      ]
     },
     "execution_count": 69,
     "metadata": {},
     "output_type": "execute_result"
    }
   ],
   "source": [
    "'Iran' in countryCapitals"
   ]
  },
  {
   "cell_type": "code",
   "execution_count": 70,
   "metadata": {},
   "outputs": [
    {
     "data": {
      "text/plain": [
       "False"
      ]
     },
     "execution_count": 70,
     "metadata": {},
     "output_type": "execute_result"
    }
   ],
   "source": [
    "'Iraq' in countryCapitals"
   ]
  },
  {
   "cell_type": "markdown",
   "metadata": {},
   "source": [
    "## 12. Conditional Statements"
   ]
  },
  {
   "cell_type": "markdown",
   "metadata": {},
   "source": [
    "**Conditional statements** allow us as programmers to create a set of rules for our program to follow! Using conditional statements in our code is one of the most powerful tools that we can use to make our instructions to our computer EXACT; that is, IF an exact condition is met in the middle of our program, we can tell our computer to THEN execute a set of specific instructions. Let's take a look at this sentence.  \n",
    "  \n",
    "- **IF** a value is less than 10, **THEN** display the words \"less than 10\" on the screen. **OTHERWISE**, display the words \"greater or equal to 10\".  \n",
    "  \n",
    "Notice how in this sentence, we only display the words \"less than 10\" if the condition that a value is less than 10 is true! In Python, we can program this specific line of instruction as well as other instructions with conditions with `if`, `elif`, and `else` keywords. The general structure of conditional statements looks as follows."
   ]
  },
  {
   "cell_type": "markdown",
   "metadata": {},
   "source": [
    "```\n",
    "if <some condition_1 is true>:\n",
    "    <do something only when condition_1 is true>\n",
    "elif <some condition_2 is true>:\n",
    "    <do something only when condition_1 is false and condition_2 is true>\n",
    "else:\n",
    "    <do something when both condition_1 and condition_2 are false>\n",
    "```"
   ]
  },
  {
   "cell_type": "markdown",
   "metadata": {},
   "source": [
    "Following the structure above, our earlier conditional statement would look as following in Python."
   ]
  },
  {
   "cell_type": "code",
   "execution_count": 71,
   "metadata": {},
   "outputs": [
    {
     "name": "stdout",
     "output_type": "stream",
     "text": [
      "greater or equal to 10\n"
     ]
    }
   ],
   "source": [
    "x = 15\n",
    "if (x < 10):\n",
    "    print(\"less than 10\")\n",
    "else:\n",
    "    print(\"greater or equal to 10\")"
   ]
  },
  {
   "cell_type": "markdown",
   "metadata": {},
   "source": [
    "## 13. Loops\n",
    "\n",
    "Sometimes we need to write code to do the same thing many times. For example, if we have a list of numbers, and we want to print all of them, we could write this:\n",
    "\n"
   ]
  },
  {
   "cell_type": "code",
   "execution_count": 72,
   "metadata": {},
   "outputs": [
    {
     "name": "stdout",
     "output_type": "stream",
     "text": [
      "6\n",
      "1\n",
      "2\n",
      "7\n",
      "3\n"
     ]
    }
   ],
   "source": [
    "l = [6, 1, 2, 7, 3]\n",
    "print(l[0])\n",
    "print(l[1])\n",
    "print(l[2])\n",
    "print(l[3])\n",
    "print(l[4])"
   ]
  },
  {
   "cell_type": "markdown",
   "metadata": {},
   "source": [
    "But this is very painful. What if we ask you print a list of 1,000 numbers?\n",
    "\n",
    "Instead, you can use **loops** to make this code easier to write. Loops allow you to write code that gets repeated many times. There are two kinds of loops: **while** loops and **for** loops."
   ]
  },
  {
   "cell_type": "markdown",
   "metadata": {},
   "source": [
    "### 13.1 `while` loops \n",
    "\n",
    "A `while` loop looks like this:\n",
    "\n",
    "```python\n",
    "while <condition>:\n",
    "    <statement 1>\n",
    "    <statement 2>\n",
    "    ...\n",
    "```\n",
    "\n",
    "(Anything inside the angle brackets `<>` means that you can choose your own.)\n",
    "\n",
    "The magic word `while` will tell the computer to repeat the following indented statements as long as the condition is `True`. In other words, the computer will do this:\n",
    "\n",
    "1. Execute the code in the condition.\n",
    "2. If the condition evaluates to `False`, then _skip_ all the indented code after the `while` word.\n",
    "3. If the condition evaluates to `True`, then run all the indented code after the `while` word once. (Running through the code inside the loop once is called one **iteration**.)\n",
    "4. After running all the statements, go back to **1**.\n",
    "\n",
    "\n",
    "**!!DANGER!!** You can break your computer with `while` loops! For example, what would happen if we ran this code?\n",
    "\n",
    "```python\n",
    "num = 0\n",
    "while True:\n",
    "    print(num)\n",
    "    num += 1\n",
    "```\n",
    "\n",
    "First we would see the computer print 0, 1, 2, 3, ... but then, it won't stop! Because the condition is _always_ `True`, The computer will keeping printing numbers forever until your computer breaks. This is called an **infinite** loop. If this ever happens to you, make sure to click on the **stop button** to tell the computer to stop. The stop button looks like a black square ($\\blacksquare$) , and you can find it at the top of the notebook.\n",
    "\n",
    "So how do we make sure that the loop stops? We need to make sure that eventually, the condition will be `False`, so that the loop can stop. For example, we can change the above code to look like this:\n",
    "\n"
   ]
  },
  {
   "cell_type": "code",
   "execution_count": 73,
   "metadata": {},
   "outputs": [
    {
     "name": "stdout",
     "output_type": "stream",
     "text": [
      "0\n",
      "1\n",
      "2\n",
      "3\n",
      "4\n",
      "done!\n"
     ]
    }
   ],
   "source": [
    "num = 0\n",
    "while num < 5:  # New condition\n",
    "    print(num)\n",
    "    num += 1\n",
    "print(\"done!\")"
   ]
  },
  {
   "cell_type": "markdown",
   "metadata": {},
   "source": [
    "Now the computer only prints 5 numbers until the loop finishes. But the condition was `num < 5`, why doesn't the computer also print `5`?\n",
    "\n",
    "Remember that the computer checks the condition _before_ each iteration of the loop. So after printing the number `4`, the computer will add `1` to `num`, making it `5`. Then the computer will check the condition, and it sees that `5` is not less than `5`. So it stops the loop, and goes on to the code after the loop."
   ]
  },
  {
   "cell_type": "markdown",
   "metadata": {},
   "source": [
    "#### Examples of `while` loops\n",
    "\n",
    "Let's look at some useful examples of `while` loops. If we want to print all the numbers in a list one-by-one, we have to write this:"
   ]
  },
  {
   "cell_type": "code",
   "execution_count": 74,
   "metadata": {},
   "outputs": [
    {
     "name": "stdout",
     "output_type": "stream",
     "text": [
      "6\n",
      "1\n",
      "2\n",
      "7\n",
      "3\n"
     ]
    }
   ],
   "source": [
    "lst = [6, 1, 2, 7, 3]\n",
    "i = 0\n",
    "while i < len(lst):\n",
    "    print(lst[i])\n",
    "    i += 1"
   ]
  },
  {
   "cell_type": "markdown",
   "metadata": {},
   "source": [
    "This is a very important pattern for you to remember. \n",
    "\n",
    "- **Initialize**: Since we want to print each number once, we need to create a variable `i` to keep track of the index in the list for us. We want to start at the beginning of the list, and the first index of a list is `0`, so we first assign `i = 0`.\n",
    "- **Increment**: At the end of each iteration, we add `i += 1` so that on the next iteration, we will be printing the next item in the list.\n",
    "- **Stop**: We want to stop when we've finished printing all the numbers in the list. So we write the condition `i < len(lst)`, which tells the computer to check that `i` is still a proper index in the list before trying to print `lst[i]` again.\n",
    "\n",
    "What if we wanted to print the numbers of the list backwards? Then we can write this:"
   ]
  },
  {
   "cell_type": "code",
   "execution_count": 75,
   "metadata": {},
   "outputs": [
    {
     "name": "stdout",
     "output_type": "stream",
     "text": [
      "3\n",
      "7\n",
      "2\n",
      "1\n",
      "6\n"
     ]
    }
   ],
   "source": [
    "lst = [6, 1, 2, 7, 3]\n",
    "i = len(lst) - 1\n",
    "while i >= 0:\n",
    "    print(lst[i])\n",
    "    i -= 1"
   ]
  },
  {
   "cell_type": "markdown",
   "metadata": {},
   "source": [
    "### 13.2 `for` loops\n",
    "\n",
    "Writing a `while` loop to go through a list can be a lot of work. You need to remember to _initizalize_ an index variable, then _increment_ it, and also to write a proper _stopping condition_. Is there an easier way?\n",
    "\n",
    "A `for` loop can help you easily repeat some code once for each item in a list. Here is what a for loop looks like:\n",
    "\n",
    "```python\n",
    "for <name> in <list>:\n",
    "    <statement 1>\n",
    "    <statement 2>\n",
    "    ...\n",
    "```\n",
    "\n",
    "The magic word `for` will tell the computer to take each item in `l` and _assign_ it to the variable `x` and then run the indented code that comes after it. In other words, when the computer sees the magic word `for`, it will follow this procedure:\n",
    "\n",
    "1. Take the first item in the _list_ and assign it to a variable with the given _name_.\n",
    "2. Run the indented code after the `for` line.\n",
    "3. Take the next item in the _list_ and assign it to the variables with the given _name_.\n",
    "4. Go back to step 2.\n",
    "\n",
    "\n",
    "To you help you remember this, when you see a line of code like this:\n",
    "\n",
    "\n",
    "```python\n",
    "for x in l:\n",
    "```\n",
    "\n",
    "you can translate it into English like this:\n",
    "\n",
    "```\n",
    "for every item in l, put it in x, then do this:\n",
    "```\n",
    "\n",
    "#### Examples of `for` loops\n",
    "\n",
    "Here is how you would print all the numbers in a list:"
   ]
  },
  {
   "cell_type": "code",
   "execution_count": 76,
   "metadata": {},
   "outputs": [
    {
     "name": "stdout",
     "output_type": "stream",
     "text": [
      "6\n",
      "1\n",
      "2\n",
      "7\n",
      "3\n"
     ]
    }
   ],
   "source": [
    "l = [6, 1, 2, 7, 3]\n",
    "for x in l:\n",
    "    print(x)"
   ]
  },
  {
   "cell_type": "markdown",
   "metadata": {},
   "source": [
    "Notice that with a `for` loop, you do not need to initialize a counter variable nor increment it to loop through a list. The computer does all the work for you. \n",
    "\n",
    "Here is how you would sum all the squares ($x^2$) of the numbers in a list:"
   ]
  },
  {
   "cell_type": "code",
   "execution_count": 77,
   "metadata": {},
   "outputs": [
    {
     "name": "stdout",
     "output_type": "stream",
     "text": [
      "80\n"
     ]
    }
   ],
   "source": [
    "nums = [3, 5, 6, 3, 1]\n",
    "sum_of_squares = 0\n",
    "for n in nums:\n",
    "    n_squared = n * n\n",
    "    sum_of_squares += n_squared\n",
    "print(sum_of_squares)"
   ]
  },
  {
   "cell_type": "markdown",
   "metadata": {},
   "source": [
    "You can also put loops inside of loops. This code computes and prints the factorial ($x! = 1 \\cdot 2 \\cdot 3 \\cdot \\ldots \\cdot x$) of each number in a list."
   ]
  },
  {
   "cell_type": "code",
   "execution_count": 78,
   "metadata": {},
   "outputs": [
    {
     "name": "stdout",
     "output_type": "stream",
     "text": [
      "720\n",
      "1\n",
      "6\n",
      "720\n",
      "5040\n"
     ]
    }
   ],
   "source": [
    "lst = [6, 1, 3, 6, 7]\n",
    "for x in lst:\n",
    "    fact = 1\n",
    "    y = 1\n",
    "    while y <= x:\n",
    "        fact *= y\n",
    "        y += 1\n",
    "    print(fact)"
   ]
  },
  {
   "cell_type": "markdown",
   "metadata": {},
   "source": [
    "### 13.3 The `range` function\n",
    "\n",
    "Let's look the code for printing all the numbers from 0 to 4 again."
   ]
  },
  {
   "cell_type": "code",
   "execution_count": 79,
   "metadata": {},
   "outputs": [
    {
     "name": "stdout",
     "output_type": "stream",
     "text": [
      "0\n",
      "1\n",
      "2\n",
      "3\n",
      "4\n"
     ]
    }
   ],
   "source": [
    "num = 0\n",
    "while num < 5:\n",
    "    print(num)\n",
    "    num += 1"
   ]
  },
  {
   "cell_type": "markdown",
   "metadata": {},
   "source": [
    "Wouldn't it be nice if we could also use a `for` loop to make this code simpler?\n",
    "\n",
    "There is a useful builtin function called `range` that can be used to create a sequence of numbers. We can rewrite the code above like this:"
   ]
  },
  {
   "cell_type": "code",
   "execution_count": 80,
   "metadata": {},
   "outputs": [
    {
     "name": "stdout",
     "output_type": "stream",
     "text": [
      "0\n",
      "1\n",
      "2\n",
      "3\n",
      "4\n"
     ]
    }
   ],
   "source": [
    "for num in range(5):\n",
    "    print(num)"
   ]
  },
  {
   "cell_type": "markdown",
   "metadata": {},
   "source": [
    "It does the exact same thing as the code from before, but it looks a lot simpler! But how does it work? Let's see what `range` returns:"
   ]
  },
  {
   "cell_type": "code",
   "execution_count": 81,
   "metadata": {},
   "outputs": [
    {
     "name": "stdout",
     "output_type": "stream",
     "text": [
      "range(0, 5)\n"
     ]
    }
   ],
   "source": [
    "print(range(5))"
   ]
  },
  {
   "cell_type": "markdown",
   "metadata": {},
   "source": [
    "OK, that is not very useful. Maybe we can try making it into a list:"
   ]
  },
  {
   "cell_type": "code",
   "execution_count": 82,
   "metadata": {},
   "outputs": [
    {
     "name": "stdout",
     "output_type": "stream",
     "text": [
      "[0, 1, 2, 3, 4]\n"
     ]
    }
   ],
   "source": [
    "print(list(range(5)))"
   ]
  },
  {
   "cell_type": "markdown",
   "metadata": {},
   "source": [
    "Aha! So `range(5)` simply creates the sequence of integers from 0 to 4. But what happened to the number `5`? Here is the full definition of `range`:\n",
    "\n",
    "- `range(end)`:  Returns the sequence of integers in the range $[0, \\texttt{end})$.\n",
    "  - In other words, returns the integers from `0` up to and including `end - 1`.  \n",
    "  \n",
    "So `range(5)` returns the sequence of integers from 0 up to 5, but not including 5. There are a couple other ways of using `range`:\n",
    "\n",
    "- `range(start, end)`:  Returns the sequence of integers in the range $[\\texttt{start}, \\texttt{end})$.\n",
    "  - In other words, returns the integers from `start` up to and including `end - 1`.\n",
    "- `range(start, end, step)`:  Returns every `step`th integer in the range $[\\texttt{start}, \\texttt{end})$.\n",
    "  - In other words, returns the integers starting from `start` and adding `step` to it until it reaches `end - 1`.\n",
    "  \n",
    "This last one is a bit confusing, so let's see some examples:"
   ]
  },
  {
   "cell_type": "code",
   "execution_count": 83,
   "metadata": {},
   "outputs": [
    {
     "name": "stdout",
     "output_type": "stream",
     "text": [
      "[4, 5, 6, 7, 8, 9, 10, 11, 12, 13, 14]\n"
     ]
    }
   ],
   "source": [
    "print(list(range(4, 15)))"
   ]
  },
  {
   "cell_type": "code",
   "execution_count": 84,
   "metadata": {},
   "outputs": [
    {
     "name": "stdout",
     "output_type": "stream",
     "text": [
      "[4, 6, 8, 10, 12, 14]\n"
     ]
    }
   ],
   "source": [
    "print(list(range(4, 15, 2)))"
   ]
  },
  {
   "cell_type": "code",
   "execution_count": 85,
   "metadata": {
    "scrolled": true
   },
   "outputs": [
    {
     "name": "stdout",
     "output_type": "stream",
     "text": [
      "[4, 7, 10, 13]\n"
     ]
    }
   ],
   "source": [
    "print(list(range(4, 15, 3)))"
   ]
  },
  {
   "cell_type": "markdown",
   "metadata": {},
   "source": [
    "You can even use negative step to creates a sequence of integers in reverse order:"
   ]
  },
  {
   "cell_type": "code",
   "execution_count": 86,
   "metadata": {},
   "outputs": [
    {
     "name": "stdout",
     "output_type": "stream",
     "text": [
      "[14, 13, 12, 11, 10, 9, 8, 7, 6, 5, 4]\n"
     ]
    }
   ],
   "source": [
    "print(list(range(14, 3, -1)))"
   ]
  },
  {
   "cell_type": "code",
   "execution_count": 87,
   "metadata": {},
   "outputs": [
    {
     "name": "stdout",
     "output_type": "stream",
     "text": [
      "[14, 12, 10, 8, 6, 4]\n"
     ]
    }
   ],
   "source": [
    "print(list(range(14, 3, -2)))"
   ]
  },
  {
   "cell_type": "markdown",
   "metadata": {},
   "source": [
    "#### Using `range` in `for` loops\n",
    "\n",
    "So to print all the even numbers from 4 to 15 noninclusive, we can write:\n"
   ]
  },
  {
   "cell_type": "code",
   "execution_count": 88,
   "metadata": {},
   "outputs": [
    {
     "name": "stdout",
     "output_type": "stream",
     "text": [
      "4\n",
      "6\n",
      "8\n",
      "10\n",
      "12\n",
      "14\n"
     ]
    }
   ],
   "source": [
    "for num in range(4, 15, 2):\n",
    "    print(num)"
   ]
  },
  {
   "cell_type": "markdown",
   "metadata": {},
   "source": [
    "Notice that we don't have to use `list` to turn the `range` into a list. This is because the keyword `for` is able to use both lists and ranges. The computer can understand the `range`, so you don't need to make it into a `list`.\n",
    "\n",
    "Let's use a range with negative step to create a rocket countdown:"
   ]
  },
  {
   "cell_type": "code",
   "execution_count": 89,
   "metadata": {},
   "outputs": [
    {
     "name": "stdout",
     "output_type": "stream",
     "text": [
      "T-minus 10 ...\n",
      "T-minus 9 ...\n",
      "T-minus 8 ...\n",
      "T-minus 7 ...\n",
      "T-minus 6 ...\n",
      "T-minus 5 ...\n",
      "T-minus 4 ...\n",
      "T-minus 3 ...\n",
      "T-minus 2 ...\n",
      "T-minus 1 ...\n",
      "T-minus 0 ...\n",
      "Blast off!!!\n"
     ]
    }
   ],
   "source": [
    "for t in range(10, -1, -1):\n",
    "    print(\"T-minus\", t, \"...\")\n",
    "print(\"Blast off!!!\")"
   ]
  },
  {
   "cell_type": "markdown",
   "metadata": {},
   "source": [
    "Now let's say that we have two lists that have the same length, and we want to compute the element-wise product of lists. How can we loop through two lists at the same time? We have `range` to the rescue!"
   ]
  },
  {
   "cell_type": "code",
   "execution_count": 90,
   "metadata": {},
   "outputs": [
    {
     "name": "stdout",
     "output_type": "stream",
     "text": [
      "Multiplying 1 and 5\n",
      "Multiplying 3 and 4\n",
      "Multiplying 8 and 3\n",
      "Multiplying 5 and 2\n",
      "Multiplying 3 and 1\n",
      "[5, 12, 24, 10, 3]\n"
     ]
    }
   ],
   "source": [
    "L1 = [1, 3, 8, 5, 3]\n",
    "L2 = [5, 4, 3, 2, 1]\n",
    "\n",
    "prod = []\n",
    "for i in range(len(L1)):\n",
    "    print(\"Multiplying\", L1[i], \"and\", L2[i])\n",
    "    prod += [L1[i] * L2[i]]\n",
    "    \n",
    "print(prod)"
   ]
  },
  {
   "cell_type": "markdown",
   "metadata": {},
   "source": [
    "Do you see the key trick here? We use the `range` to generate the sequence of list **indices** that we want to loop through. Then when the computer assigns each index to `i`, we can use it to get the corresponding item from both lists, and multiply them together."
   ]
  },
  {
   "cell_type": "markdown",
   "metadata": {},
   "source": [
    "### 13.4 Converting `for` loops to `while` loops\n",
    "\n",
    "You've probably noticed that `while` loops are a lot simpler to understand than `for` loops. The keyword `for` tells the computer to do a lot more than the keyword `while`. In fact, you can convert **any** `for` loop into a `while` loop that does the same thing. Here are some examples:"
   ]
  },
  {
   "cell_type": "code",
   "execution_count": 91,
   "metadata": {},
   "outputs": [
    {
     "name": "stdout",
     "output_type": "stream",
     "text": [
      "25\n",
      "9\n",
      "49\n",
      "81\n",
      "1\n",
      "25\n",
      "9\n",
      "49\n",
      "81\n",
      "1\n"
     ]
    }
   ],
   "source": [
    "lst = [5, 3, 7, 9, 1]\n",
    "# This code prints the square of each of the numbers in the list.\n",
    "for x in lst:\n",
    "    print(x * x)\n",
    "    \n",
    "# This code does the same thing but with a while loop.\n",
    "i = 0\n",
    "while i < len(lst):\n",
    "    x = lst[i]\n",
    "    print(x * x)\n",
    "    i += 1"
   ]
  },
  {
   "cell_type": "code",
   "execution_count": 92,
   "metadata": {},
   "outputs": [
    {
     "name": "stdout",
     "output_type": "stream",
     "text": [
      "10\n",
      "17\n",
      "24\n",
      "10\n",
      "17\n",
      "24\n"
     ]
    }
   ],
   "source": [
    "# This code prints every 7th number between 10 and 30:\n",
    "for num in range(10, 30, 7):\n",
    "    print(num)\n",
    "\n",
    "# This code does the same thing but with a while loop.\n",
    "num = 10\n",
    "while num < 30:\n",
    "    print(num)\n",
    "    num += 7"
   ]
  },
  {
   "cell_type": "markdown",
   "metadata": {},
   "source": [
    "### 13.5 Advanced Loops: Using `break` and `continue`\n",
    "\n",
    "\n",
    "#### Break statement\n",
    "\n",
    "\n",
    "Sometimes it's necessary to stop a loop from executing till the end. \n",
    "\n",
    "For example, if we are searching a list `L = [1, 4, 7, 9, 11, 15]` for the number `7`, once we find the number `7` in the list, we no longer want to walk through the list. `break` helps us exit a loop once we no longer want to walk through the loop all the way through.\n",
    "\n",
    "```python\n",
    "for val in L:\n",
    "    if val == 7:\n",
    "        break;\n",
    "```\n",
    "\n",
    "#### Continue statement\n",
    "\n",
    "The continue statement within loops is used to \"skip the cycle\". When the continue statement is executed in the loop, the code inside the loop following the continue statement will be skipped and next iteration of the loop will begin.\n",
    "\n",
    "```python\n",
    "for val in L:\n",
    "    ...\n",
    "    if val>0:\n",
    "        continue;\n",
    "    ...\n",
    "    # continue jumps here\n",
    "    # end of loop\n",
    "\n",
    "```"
   ]
  },
  {
   "cell_type": "markdown",
   "metadata": {},
   "source": [
    "## 14. Functions"
   ]
  },
  {
   "cell_type": "markdown",
   "metadata": {},
   "source": [
    "You want to know how much money you have, so you count all your Birr: every coin and bill in your wallet. You have 4 one birr coins, 1 bill of 5 birr, 2 bills of 10, 1 bill of 50, and 2 bills of 100. You pull out your calculator and type in:\n",
    "\n",
    "\n"
   ]
  },
  {
   "cell_type": "code",
   "execution_count": 93,
   "metadata": {},
   "outputs": [
    {
     "data": {
      "text/plain": [
       "279"
      ]
     },
     "execution_count": 93,
     "metadata": {},
     "output_type": "execute_result"
    }
   ],
   "source": [
    "1 + 1 + 1 + 1 + 5 + 10 + 10 + 50 + 100 + 100"
   ]
  },
  {
   "cell_type": "markdown",
   "metadata": {},
   "source": [
    "But you actually want to do this counting every day. Is there an easier way for you to count all your money without typing every number into your calculator every time? We could use multiplication:"
   ]
  },
  {
   "cell_type": "code",
   "execution_count": 94,
   "metadata": {},
   "outputs": [
    {
     "data": {
      "text/plain": [
       "279"
      ]
     },
     "execution_count": 94,
     "metadata": {},
     "output_type": "execute_result"
    }
   ],
   "source": [
    "1*4 + 5*1 + 10*2 + 50*1 + 100*2"
   ]
  },
  {
   "cell_type": "markdown",
   "metadata": {},
   "source": [
    "But it is still very annoying to type all of this every time. \n",
    "\n",
    "What if you had a special calculator machine that already knows how to count your birr, and works for any amount?\n",
    "What if this machine just asks you how many ones, fives, tens, fifties, and hundreds you have, and then it just tells you how much birr you have in total? That would save you a lot of time!\n",
    "\n",
    "Writing a **function** in code is just like building a special calculator machine for a specific task. Let's create such a machine for the birr counting task:\n"
   ]
  },
  {
   "cell_type": "code",
   "execution_count": 95,
   "metadata": {},
   "outputs": [],
   "source": [
    "# Here we *create* our machine.\n",
    "def count_money(ones, fives, tens, fifties, hundreds):\n",
    "    return 1*ones + 5*fives + 10*tens + 50*fifties + 100*hundreds"
   ]
  },
  {
   "cell_type": "markdown",
   "metadata": {},
   "source": [
    "But we don't see any output yet, because we've only created the machine, but we haven't used it yet. This is how we use the machine:"
   ]
  },
  {
   "cell_type": "code",
   "execution_count": 96,
   "metadata": {},
   "outputs": [
    {
     "data": {
      "text/plain": [
       "279"
      ]
     },
     "execution_count": 96,
     "metadata": {},
     "output_type": "execute_result"
    }
   ],
   "source": [
    "# Here we *use* our machine.\n",
    "count_money(4, 1, 2, 1, 2)"
   ]
  },
  {
   "cell_type": "markdown",
   "metadata": {},
   "source": [
    "Awesome! And we can use this machine as many times as we want:"
   ]
  },
  {
   "cell_type": "code",
   "execution_count": 97,
   "metadata": {},
   "outputs": [
    {
     "data": {
      "text/plain": [
       "1078"
      ]
     },
     "execution_count": 97,
     "metadata": {},
     "output_type": "execute_result"
    }
   ],
   "source": [
    "# Now I have 8 coins, 4 bills of 5 birr, 15 bills of 10 birr, 0 bills of 50 birr, and 9 bills of 100 birr\n",
    "count_money(8, 4, 15, 0, 9)"
   ]
  },
  {
   "cell_type": "code",
   "execution_count": 98,
   "metadata": {},
   "outputs": [
    {
     "data": {
      "text/plain": [
       "0"
      ]
     },
     "execution_count": 98,
     "metadata": {},
     "output_type": "execute_result"
    }
   ],
   "source": [
    "# Someone robbed me and now I have no coins and no bills.\n",
    "count_money(0, 0, 0, 0, 0)"
   ]
  },
  {
   "cell_type": "markdown",
   "metadata": {},
   "source": [
    "Now let's learn more details about how to write and use functions.\n",
    "\n",
    "### 14.1 Anatomy of a Function Definition\n",
    "\n",
    "In programming, when we create a new function (special calculator machine), we say that we are **defining** a function. When we are using our function, we say that we are **calling** the function.\n",
    "\n",
    "Remember that our birr-counting function needed to ask us how many of each bill we had? Those numbers that we gave the function were the inputs for the machine. In programming, we like to call the inputs the **arguments** to the function.\n",
    "\n",
    "Also remember that the function needed to tell us the result of the computation? In programming we say that the function **returns** the final result.\n",
    "\n",
    "\n",
    "Here is what a function **definition** looks like:\n",
    "\n",
    "```python\n",
    "def <function_name>(<argument1>, <argument2>, ...):\n",
    "    <statement 1>\n",
    "    <statement 2>\n",
    "    ...\n",
    "```\n",
    "\n",
    "The important details about function definitions are:\n",
    "\n",
    "- A function definition starts with a **header** line:\n",
    "- The header line always starts with `def`, which is just short for \"define\".\n",
    "- It is followed by the function name, which can be almost anything, just like variable names.\n",
    "- Then we list the arguments (inputs) of the function between a pair of parentheses.\n",
    "- The arguments of the function are separated by commas.\n",
    "- Each argument can have almost any name, just like variable names.\n",
    "- All the instructions (statements) for what the function should do must be _indented_. We call these indented lines the **body** of the function. The first line that is not indented after the function header is considered _outside_ of the function.\n",
    "\n",
    "Let's practice by writing a function for computing a restaurant bill. Let's say you own a restaurant, and sometimes a group of customers asks you to split the bill evenly between them. How can we compute the bill for each person? First let's think about what are the inputs: 1) we have a list of prices for the items that they ordered, 2) we need to know how many people are in the group, 3) we also need to make sure that we take tax rate into account. So we write this function, which we will name `split_bill`:"
   ]
  },
  {
   "cell_type": "code",
   "execution_count": 99,
   "metadata": {},
   "outputs": [],
   "source": [
    "def split_bill(prices, num_people, tax_rate):\n",
    "    subtotal = 0\n",
    "    for price in prices:\n",
    "        subtotal += price\n",
    "    total = subtotal * (1 + tax_rate)\n",
    "    return total / num_people"
   ]
  },
  {
   "cell_type": "markdown",
   "metadata": {},
   "source": [
    "Note that **the magic word `return` marks the final result of the function**. We will explain `return` more in the next section.\n",
    "\n",
    "It is also worth noting that a `return` statement does not have to be the last line in a function. It can be anywhere in the function. You will see more examples of this later in the course.\n",
    "\n",
    "\n",
    "### 14.2 Anatomy of a Function Call\n",
    "\n",
    "So now we have **defined** this `split_bill` function, but how do we use it? We need to make a **function call**.\n",
    "\n",
    "Let's say that a group of 3 friends ordered a beyaynetu for 105 birr, a tibs firfir for 30 birr, and three Coca-Colas for 15 birr each. The tax rate in Addis Ababa is 5%. Then we should call the function like this:"
   ]
  },
  {
   "cell_type": "code",
   "execution_count": 100,
   "metadata": {},
   "outputs": [
    {
     "data": {
      "text/plain": [
       "63.0"
      ]
     },
     "execution_count": 100,
     "metadata": {},
     "output_type": "execute_result"
    }
   ],
   "source": [
    "split_bill([105, 30, 15, 15, 15], 3, 0.05)"
   ]
  },
  {
   "cell_type": "markdown",
   "metadata": {},
   "source": [
    "So each person should pay exactly 63 birr.\n",
    "\n",
    "What do you notice about this function call?\n",
    "\n",
    "- First, you need to write the name of the function that you want to use. Then write all the inputs that we want to give the function, between a pair of parentheses and separated by commas.\n",
    "- It is also important to notice that we provide the arguments in exactly the same order as the list of expected arguments in the function definition. `num_people` was the second argument in the function definition, so we have to give our number of people (3) as the second argument in the function call.\n",
    "\n",
    "Also, do function calls look familiar to you at all? (Hint: remember `print()`? Or `type()`?)\n",
    "\n",
    "That's right! It turns out that we've been calling functions this whole time: `print`, `type`, `len`, `range`, and even `str` and `int` are all functions. We call these \"**built-in functions**\": this means that they are functions that are already **defined** inside the computer, so that you can use them any time. You do not need to define them yourself.\n",
    "\n",
    "Let's look at another example. Let's say that the group of 3 friends want to each pay 5 birr tip. So we can write this code to show how much each person is paying:"
   ]
  },
  {
   "cell_type": "code",
   "execution_count": 101,
   "metadata": {},
   "outputs": [
    {
     "name": "stdout",
     "output_type": "stream",
     "text": [
      "Each person is paying 68.0 birr.\n"
     ]
    }
   ],
   "source": [
    "bill = [105, 30, 15, 15, 15]\n",
    "print(\"Each person is paying\", split_bill(bill, 3, 0.05) + 5, \"birr.\")"
   ]
  },
  {
   "cell_type": "markdown",
   "metadata": {},
   "source": [
    "How does this code work? What does it mean to call a function _inside_ the `print` call?\n",
    "\n",
    "Let's learn the steps of a function call. **When a computer sees a function call, it does this:**\n",
    "\n",
    "1. Jump to the code of the function definition.\n",
    "2. Assign the arguments that you gave the function one by one to the variables with the names you gave in the argument list in the function definition.\n",
    "3. Run the code of the function line by line.\n",
    "4. If the computer reaches a `return` instruction, jump back to the calling location immediately, and do not finish running the function.\n",
    "5. Replace the function call with the return value.\n",
    "\n",
    "This is a lot to remember, and it probably doesn't make any sense yet. So let's try it on the example from above. The first line:\n",
    "```python\n",
    "bill = [105, 30, 15, 15, 15]\n",
    "```\n",
    "just assigns the list of numbers to a variable called `bill`. Then the next line is a call to `print`:\n",
    "```python\n",
    "print(\"Each person is paying\", split_bill(bill, 3, 0.05) + 5, \"birr.\")\n",
    "```\n",
    "The computer needs to know exactly what it is printing. But the second argument to `print` is not computed yet:\n",
    "```python\n",
    "split_bill(bill, 3, 0.05) + 5\n",
    "```\n",
    "So the computer has to call `split_bill`. So first (1) it jumps to the first line of the function definition:\n",
    "```python\n",
    "def split_bill(prices, num_people, tax_rate):\n",
    "```\n",
    "Now it has to (2) assign all the arguments. The function takes arguments `(prices, num_people, tax_rate)`, and we called the function with `(bill, 3, 0.05)`. So the computer will do this behind the scenes:\n",
    "```python\n",
    "prices = bill\n",
    "num_people = 3\n",
    "tax_rate = 0.05\n",
    "```\n",
    "Now the computer is ready to (3) run the **body** of the function line by line:\n",
    "```python\n",
    "subtotal = 0\n",
    "for price in prices:\n",
    "    subtotal += price\n",
    "total = subtotal * (1 + tax_rate)\n",
    "```\n",
    "At the end of this code, the variable `total` now contains the total amount of the bill, `189`. Then the computer sees a `return` statement:\n",
    "```python\n",
    "return total / num_people\n",
    "```\n",
    "So now the computer computes `total / num_people` $\\rightarrow$ `63` as the final result of the function, then (4) _returns_ to where you first called the function:\n",
    "```python\n",
    "split_bill(bill, 3, 0.05) + 5\n",
    "```\n",
    "Now the computer (5) _replaces_ the function call with the final result of the function (which we call the **return value**):\n",
    "```python\n",
    "63 + 5\n",
    "```\n",
    "Now the computer is able to make the call to the `print` function:\n",
    "```python\n",
    "print(\"Each person is paying\", 63 + 5, \"birr.\")\n",
    "```\n",
    "```python\n",
    "print(\"Each person is paying\", 68, \"birr.\")\n",
    "```"
   ]
  },
  {
   "cell_type": "markdown",
   "metadata": {},
   "source": [
    "### 14.3 Advanced Note: Relationship between code functions and math functions\n",
    "\n",
    "You might have heard of the word \"function\" before in math class, and wondering how it's different from functions in code. They are similar, but not exactly the same. Let's look at some examples to see how they are same and how they are different.\n",
    "\n",
    "Let's define a function $f(x)$ like this:\n",
    "\n",
    "$$f(x) = 2x + 3$$\n",
    "\n",
    "We can use this function in other math expressions like this:\n",
    "\n",
    "$$ 4 f(3)^2 = 4 (2 \\cdot 3 + 3)^2 = 4 (9)^2 = 4 \\cdot 81 = 324 $$\n",
    "\n",
    "Notice how this is very similar to the steps of a function call that we described before? When we write $f(3)$, we rewrite the expression $2x + 3$ with the argument $3$ substituted in for $x$. (In code, the computer would assign `x = 3`.) Then we compute the result of the function $f(3) = 2 \\cdot 3 + 3 = 9$, and then we replace the original function call with the result: $4f(3)^2 = 4(9)^2$.\n",
    "\n",
    "Let's tell the computer to do the same thing in code:"
   ]
  },
  {
   "cell_type": "code",
   "execution_count": 102,
   "metadata": {},
   "outputs": [
    {
     "name": "stdout",
     "output_type": "stream",
     "text": [
      "324\n"
     ]
    }
   ],
   "source": [
    "def f(x):\n",
    "    return 2 * x + 3\n",
    "\n",
    "print(4 * f(3) ** 2)"
   ]
  },
  {
   "cell_type": "markdown",
   "metadata": {},
   "source": [
    "We get the same result!\n",
    "\n",
    "So far, functions in math seem pretty similar to functions in code. There are some differences in the way you write it (for example, we need to write `def` and also write `return` to mark the result), but otherwise the way they are expanded is similar. But what happens if we change our code function a little bit:"
   ]
  },
  {
   "cell_type": "code",
   "execution_count": 103,
   "metadata": {},
   "outputs": [
    {
     "name": "stdout",
     "output_type": "stream",
     "text": [
      "Hello I got number 3\n",
      "324\n"
     ]
    }
   ],
   "source": [
    "def f(x):\n",
    "    print(\"Hello I got number\", x)\n",
    "    return 2 * x + 3\n",
    "\n",
    "print(4 * f(3) ** 2)"
   ]
  },
  {
   "cell_type": "markdown",
   "metadata": {},
   "source": [
    "We added a `print` call inside the function.\n",
    "\n",
    "Our first question to you: _Is there any way to do something similar in a math function?_\n",
    "\n",
    "No! There is no such thing as \"printing something on the screen\" in math.\n",
    "\n",
    "Our next question: _Does the added `print` call change the result of the function call at all?_\n",
    "\n",
    "No! The `print` call does not change the result of the function call. When the computer sees this:\n",
    "```python\n",
    "print(4 * f(3) ** 2)\n",
    "```\n",
    "it will still expand it to:\n",
    "```python\n",
    "print(4 * 9 ** 2)\n",
    "```\n",
    "because the function has `return 2 * x + 3`, which does not get affected by the `print`. The only thing that changes is that the computer will also display `Hello I got number 3` on the screen. We call these effects the **side effects** of a function. One of the main differences between functions in math and functions in code is that only functions in code can have side effects."
   ]
  },
  {
   "cell_type": "markdown",
   "metadata": {},
   "source": [
    "## 15. Indentation\n",
    "\n",
    "```python\n",
    "name = \"One sip Steve\"\n",
    "if len(name) > 0:\n",
    "    message = 'Hi! ' + name \n",
    "    print message\n",
    "```\n",
    "\n",
    "In the above example, we told the computer that the two statements or block of code should be run only if length of name is greater than 0.\n",
    "\n",
    "However, how does the computer get to know what all lines of code are to be executed?\n",
    "\n",
    "Some programming languages wrap code using curly braces `{}`:\n",
    "\n",
    "```go\n",
    "if len(name) > 0 {\n",
    "    message = 'Hi! ' + name\n",
    "    print message\n",
    "}\n",
    "```\n",
    "\n",
    "Python relies on **indentation** to know which lines of code is contained under the previous `if` statement, `for` loop, `while` loop, or function `def`inition. Indentation means **space on the left side of the code**.\n",
    "\n",
    "All contiguous (touching) lines that have the same amount of space on the left side _or more_ are considered one **block** of code. Let's look at this example:\n",
    "\n",
    "```python\n",
    "lst = [6, 1, 3, 6, 7]\n",
    "for x in lst:\n",
    "    fact = 1\n",
    "    y = 1\n",
    "    while y <= x:\n",
    "        fact *= y\n",
    "        y += 1\n",
    "    print(fact)\n",
    "print(\"done!\")\n",
    "```\n",
    "\n",
    "The two lines after the `while` statement are considered one block of code, because they both have the same number of spaces on the left side, and they are touching. Thus they are the only lines _inside_ the `while` loop:\n",
    "```python\n",
    "        fact *= y\n",
    "        y += 1\n",
    "```\n",
    "\n",
    "This is also a block of code, because all these lines have the same number of spaces on the left **or more**. So these are the lines that are considered _inside_ the `for` loop:\n",
    "```python\n",
    "    fact = 1\n",
    "    y = 1\n",
    "    while y <= x:\n",
    "        fact *= y\n",
    "        y += 1\n",
    "    print(fact)\n",
    "```"
   ]
  },
  {
   "cell_type": "markdown",
   "metadata": {},
   "source": [
    "## 16. Recursion"
   ]
  },
  {
   "cell_type": "markdown",
   "metadata": {},
   "source": [
    "Recursion is a problem solving method that makes use of solutions to smaller/easier variations of the original problems to answer the original problem.\n",
    "  \n",
    "In recursion, a function **calls** itself. Recursion is used when a problem can be easily divided into easier problems. \n",
    "\n",
    "A recursive function has **2 components**:\n",
    "\n",
    "1. **Base case:** Simplest possible input and prevents **infinite recursion**.\n",
    "2. **Recursion step:** Call the same function itself with a **smaller/easier** input to the function and act on the output of the smaller function call."
   ]
  },
  {
   "cell_type": "markdown",
   "metadata": {},
   "source": [
    "Given a problem to find the factorial of a given number, compare the **iterative** method to problem solving (involving use of a `for`/`while` loop) with the **recursive** method to problem solving."
   ]
  },
  {
   "cell_type": "code",
   "execution_count": 104,
   "metadata": {},
   "outputs": [
    {
     "name": "stdout",
     "output_type": "stream",
     "text": [
      "720\n"
     ]
    }
   ],
   "source": [
    "# Iterative\n",
    "def factorial_iter(n):\n",
    "    result = 1\n",
    "    for i in range(1, n+1):\n",
    "        result *= i\n",
    "    return result\n",
    "\n",
    "print(factorial_iter(6))"
   ]
  },
  {
   "cell_type": "code",
   "execution_count": 105,
   "metadata": {},
   "outputs": [
    {
     "name": "stdout",
     "output_type": "stream",
     "text": [
      "720\n"
     ]
    }
   ],
   "source": [
    "# Recursive\n",
    "def factorial_recur(n):\n",
    "    if n == 0: # BASE CASE\n",
    "        return 1\n",
    "    return n * factorial_recur(n-1) # RECURSION STEP\n",
    "\n",
    "print(factorial_recur(6))"
   ]
  },
  {
   "cell_type": "markdown",
   "metadata": {},
   "source": [
    "There are, however, trade-offs to using recursive method to solving problems over iterative method. Many recursive solutions to a problem end up with few lines of code and some consider them more elegant. However, recursive method, without proper optimization, can run into situations in which the number of recursive function calls with smaller inputs might require too much power from your computer! When approaching a particular problem, consider the trade-offs of different methods before committing to one method."
   ]
  },
  {
   "cell_type": "markdown",
   "metadata": {},
   "source": [
    "## Glossary\n",
    "\n",
    "- **argument**: an input to a function\n",
    "- **assign**: to give (a variable) a new value\n",
    "- **builtin function**: a function is already defined by Python; a function that Python already knows about\n",
    "- **call** a function: to use a function\n",
    "- **cast**: to change a value from one type to another\n",
    "- **contiguous**: on top of each other; touching\n",
    "- **define** a function: to create a function\n",
    "- **element**: an item in a list\n",
    "- **expression**: a piece of code that the computer executes and turns into a value\n",
    "- **error**: a problem in the code; the computer will sometimes give us an error if there is something wrong with our code\n",
    "- **execute**: (when the computer) follows the instructions in your code\n",
    "- **indent**: to add space to the left of a line of code\n",
    "- **indentation**: the space to the left of a line of code\n",
    "- **indented**: having space on the left side\n",
    "- **index**: the position of an element in a list\n",
    "- **indices**: plural of index\n",
    "- **iteration**: one cycle of a loop\n",
    "- **keyword**: a special word that has special meaning in the programming language; it means something special to the computer\n",
    "- **operator**: a symbol that performs an operation on the items next to it. For example, `+`, `*`, or `not`.\n",
    "- **parentheses**: round braces like this: `()`\n",
    "- **print**: to show something on the screen\n",
    "- **program**: a collection of instructions (code) that performs a specific task when executed by a computer\n",
    "- **statement**: a full line of code\n",
    "- **square brackets**: these are square brackets: `[]` \n",
    "- **string**: a sequence of text characters\n",
    "- **syntax**: the \"grammar\" of a programming language like Python: syntax is the set of rules about where words should go in the code, how they should be spelled, where punctuation should go, etc.\n",
    "\n"
   ]
  }
 ],
 "metadata": {
  "kernelspec": {
   "display_name": "Python 3",
   "language": "python",
   "name": "python3"
  },
  "language_info": {
   "codemirror_mode": {
    "name": "ipython",
    "version": 3
   },
   "file_extension": ".py",
   "mimetype": "text/x-python",
   "name": "python",
   "nbconvert_exporter": "python",
   "pygments_lexer": "ipython3",
   "version": "3.7.3"
  }
 },
 "nbformat": 4,
 "nbformat_minor": 2
}
